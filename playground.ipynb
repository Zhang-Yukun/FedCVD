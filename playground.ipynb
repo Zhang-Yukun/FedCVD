{
 "cells": [
  {
   "cell_type": "markdown",
   "source": [],
   "metadata": {
    "collapsed": false,
    "pycharm": {
     "name": "#%% md\n"
    }
   }
  },
  {
   "cell_type": "code",
   "execution_count": 1,
   "outputs": [],
   "source": [
    "import os\n",
    "import sys\n",
    "import torch.nn.utils.rnn\n",
    "from torch.optim import Adam\n",
    "from torch.utils.data import Dataset\n",
    "from torchmetrics import Dice\n",
    "from tqdm import tqdm\n",
    "\n",
    "sys.path.append(os.path.abspath('./code/'))\n",
    "from fedlab.utils.functional import get_best_device\n",
    "from model.resnet import resnet50\n",
    "from utils.dataloader import EchoDataset, EchoCollator,EchoFrameDataset, EchoFrameCollator\n"
   ],
   "metadata": {
    "collapsed": false,
    "pycharm": {
     "name": "#%%\n"
    }
   }
  },
  {
   "cell_type": "code",
   "execution_count": 2,
   "outputs": [],
   "source": [
    "from preprocess.echo_splittting import ECHOSplitter\n",
    "\n",
    "# spt = ECHOSplitter('/data/zyk/data/dataset/ECHO/preprocessed/client2/metadata.csv',\n",
    "#                    train_output_file='/data/zyk/data/dataset/ECHO/preprocessed/client2/train.csv',\n",
    "#                    test_output_file='/data/zyk/data/dataset/ECHO/preprocessed/client2/test.csv',\n",
    "#                    test_sample_rate=0.2, random_seed=2\n",
    "#                    )\n",
    "# spt.run()"
   ],
   "metadata": {
    "collapsed": false,
    "pycharm": {
     "name": "#%%\n"
    }
   }
  },
  {
   "cell_type": "code",
   "execution_count": 2,
   "outputs": [],
   "source": [
    "ds_train = EchoFrameDataset(meta_name='train',location='client1')"
   ],
   "metadata": {
    "collapsed": false,
    "pycharm": {
     "name": "#%%\n"
    }
   }
  },
  {
   "cell_type": "code",
   "execution_count": 3,
   "outputs": [],
   "source": [
    "train_dataloader = torch.utils.data.DataLoader(ds_train, batch_size=13, collate_fn=EchoFrameCollator())\n"
   ],
   "metadata": {
    "collapsed": false,
    "pycharm": {
     "name": "#%%\n"
    }
   }
  },
  {
   "cell_type": "code",
   "execution_count": 5,
   "outputs": [
    {
     "name": "stdout",
     "output_type": "stream",
     "text": [
      "torch.Size([1, 112, 112])\n"
     ]
    }
   ],
   "source": [
    "for batch in train_dataloader:\n",
    "    print(batch['labeled']['frames'].shape)\n",
    "    break"
   ],
   "metadata": {
    "collapsed": false,
    "pycharm": {
     "name": "#%%\n"
    }
   }
  },
  {
   "cell_type": "code",
   "execution_count": 4,
   "outputs": [],
   "source": [
    "\n",
    "from code.utils.dataloader import EchoFrameCollator\n",
    "\n",
    "ds_train = EchoFrameDataset(meta_name='train',location='client2')\n",
    "ds_test = EchoFrameDataset(meta_name='test',location='client2')\n",
    "\n",
    "epochs = 10\n",
    "batch_size = 16\n",
    "\n",
    "train_dataloader = torch.utils.data.DataLoader(ds_train, batch_size=batch_size, collate_fn=EchoFrameCollator())\n",
    "ds_test = EchoDataset(meta_name='test',location='client2')\n",
    "\n",
    "test_dataloader = torch.utils.data.DataLoader(ds_test, batch_size=batch_size, collate_fn=EchoCollator())\n",
    "\n",
    "\n",
    "def evaluate(model, loader, ignore_index=-200):\n",
    "    metric = Dice(ignore_index=ignore_index, num_classes=4)\n",
    "    model.eval()\n",
    "    with torch.no_grad():\n",
    "        preds = []\n",
    "        labels = []\n",
    "        for batch in tqdm(loader, desc='evaluating...'):\n",
    "            input = batch['videos'].to(model.device)\n",
    "            for i in range(input.shape[1]):\n",
    "                optimizer.zero_grad()\n",
    "                ipt = torch.unsqueeze(input[:, i, ...], dim=1)\n",
    "                ipt = torch.cat([ipt, ipt, ipt], dim=1)\n",
    "                ipt = ipt.float() / 255.0\n",
    "                output = model(ipt)\n",
    "                label = batch['labels'][:, i, ...]\n",
    "                pred = output['out'].permute(0, 2, 3, 1).reshape(-1, 4).detach().cpu()\n",
    "                label = label.reshape(-1)\n",
    "                preds.append(pred)\n",
    "                labels.append(label)\n",
    "        preds = torch.cat(preds, dim=0)\n",
    "        labels = torch.cat(labels, dim=0)\n",
    "        # skip labels where it is -200\n",
    "        preds = preds[labels != ignore_index]\n",
    "        labels = labels[labels != ignore_index]\n",
    "        dice = metric(preds, labels)\n",
    "    model.train()\n",
    "    return dice\n"
   ],
   "metadata": {
    "collapsed": false,
    "pycharm": {
     "name": "#%%\n"
    }
   }
  },
  {
   "cell_type": "code",
   "execution_count": 4,
   "outputs": [
    {
     "name": "stderr",
     "output_type": "stream",
     "text": [
      "  0%|                                                                                                                                              | 0/5020 [00:00<?, ?it/s]/data/stupidtree/.local/lib/python3.9/site-packages/torch/nn/modules/conv.py:456: UserWarning: Plan failed with a cudnnException: CUDNN_BACKEND_EXECUTION_PLAN_DESCRIPTOR: cudnnFinalize Descriptor Failed cudnn_status: CUDNN_STATUS_NOT_SUPPORTED (Triggered internally at ../aten/src/ATen/native/cudnn/Conv_v8.cpp:919.)\n",
      "  return F.conv2d(input, weight, bias, self.stride,\n",
      "  5%|█████▍                                                                                                         | 245/5020 [10:53<3:57:30,  2.98s/it, epc=0, loss=0.598]\n",
      "KeyboardInterrupt\n",
      "\n"
     ]
    }
   ],
   "source": [
    "device = get_best_device()\n",
    "model = resnet50(num_classes=4).to(device)\n",
    "model.device = device\n",
    "optimizer = Adam(model.parameters(), lr=1e-3)\n",
    "\n",
    "\n",
    "pbar = tqdm(total=len(train_dataloader) * epochs)\n",
    "for epc in range(epochs):\n",
    "    for batch in train_dataloader:\n",
    "        input = batch['videos'].to(device)\n",
    "        loss = 0\n",
    "        lf = torch.nn.CrossEntropyLoss(ignore_index=-200, reduction='mean')\n",
    "        for i in range(input.shape[1]):\n",
    "            optimizer.zero_grad()\n",
    "            ipt = torch.unsqueeze(input[:, i, ...], dim=1)\n",
    "            ipt = torch.cat([ipt, ipt, ipt], dim=1)\n",
    "            ipt = ipt.float() / 255.0\n",
    "            output = model(ipt)\n",
    "            label = batch['labels'][:, i, ...]\n",
    "            pred = output['out'].permute(0, 2, 3, 1).reshape(-1, 4)\n",
    "            label = label.to(device).reshape(-1)\n",
    "            ls = lf(pred, label)\n",
    "            if not ls.isnan():\n",
    "                loss += ls\n",
    "        loss.backward()\n",
    "        optimizer.step()\n",
    "        pbar.set_postfix(dict(epc=epc, loss=loss.item()))\n",
    "        pbar.update()\n",
    "    res = evaluate(model, test_dataloader)\n",
    "    print(f'epoch {epc} dice: {res.item()}')"
   ],
   "metadata": {
    "collapsed": false,
    "pycharm": {
     "name": "#%%\n"
    }
   }
  },
  {
   "cell_type": "code",
   "execution_count": 3,
   "outputs": [
    {
     "ename": "NameError",
     "evalue": "name 'batch_size' is not defined",
     "output_type": "error",
     "traceback": [
      "\u001B[0;31m---------------------------------------------------------------------------\u001B[0m",
      "\u001B[0;31mNameError\u001B[0m                                 Traceback (most recent call last)",
      "Cell \u001B[0;32mIn[3], line 2\u001B[0m\n\u001B[1;32m      1\u001B[0m ds_test \u001B[38;5;241m=\u001B[39m EchoDataset(meta_name\u001B[38;5;241m=\u001B[39m\u001B[38;5;124m'\u001B[39m\u001B[38;5;124mtest\u001B[39m\u001B[38;5;124m'\u001B[39m,location\u001B[38;5;241m=\u001B[39m\u001B[38;5;124m'\u001B[39m\u001B[38;5;124mclient1\u001B[39m\u001B[38;5;124m'\u001B[39m)\n\u001B[0;32m----> 2\u001B[0m test_dataloader \u001B[38;5;241m=\u001B[39m torch\u001B[38;5;241m.\u001B[39mutils\u001B[38;5;241m.\u001B[39mdata\u001B[38;5;241m.\u001B[39mDataLoader(ds_test, batch_size\u001B[38;5;241m=\u001B[39m\u001B[43mbatch_size\u001B[49m, collate_fn\u001B[38;5;241m=\u001B[39mEchoCollator(),shuffle\u001B[38;5;241m=\u001B[39m\u001B[38;5;28;01mTrue\u001B[39;00m)\n\u001B[1;32m      5\u001B[0m \u001B[38;5;28;01mfor\u001B[39;00m batch \u001B[38;5;129;01min\u001B[39;00m test_dataloader:\n\u001B[1;32m      6\u001B[0m     \u001B[38;5;28minput\u001B[39m \u001B[38;5;241m=\u001B[39m batch[\u001B[38;5;124m'\u001B[39m\u001B[38;5;124mvideos\u001B[39m\u001B[38;5;124m'\u001B[39m]\u001B[38;5;241m.\u001B[39mto(device)\n",
      "\u001B[0;31mNameError\u001B[0m: name 'batch_size' is not defined"
     ]
    }
   ],
   "source": [
    "ds_test = EchoDataset(meta_name='test',location='client1')\n",
    "test_dataloader = torch.utils.data.DataLoader(ds_test, batch_size=batch_size, collate_fn=EchoCollator(),shuffle=True)\n",
    "\n",
    "\n",
    "for batch in test_dataloader:\n",
    "    input = batch['videos'].to(device)\n",
    "    for i in range(input.shape[1]):\n",
    "        optimizer.zero_grad()\n",
    "        ipt = torch.unsqueeze(input[:, i, ...], dim=1)\n",
    "        ipt = torch.unsqueeze(input[:, i, ...], dim=1)\n",
    "        ipt = torch.cat([ipt, ipt, ipt], dim=1)\n",
    "        ipt = ipt.float() / 255.0\n",
    "        output = model(ipt)\n",
    "        label = batch['labels'][:, i, ...]\n",
    "        pred = output['out']\n",
    "        # show the image\n",
    "        import matplotlib.pyplot as plt\n",
    "\n",
    "        plt.imshow(label[0].detach().cpu().numpy())\n",
    "        plt.show()\n",
    "        plt.imshow(pred[0].permute(1,2,0).argmax(-1).detach().cpu().numpy())\n",
    "        plt.show()\n",
    "        break\n",
    "    break"
   ],
   "metadata": {
    "collapsed": false,
    "pycharm": {
     "name": "#%%\n"
    }
   }
  },
  {
   "cell_type": "code",
   "execution_count": null,
   "outputs": [],
   "source": [],
   "metadata": {
    "collapsed": false,
    "pycharm": {
     "name": "#%%\n"
    }
   }
  }
 ],
 "metadata": {
  "kernelspec": {
   "display_name": "Python 3",
   "language": "python",
   "name": "python3"
  },
  "language_info": {
   "codemirror_mode": {
    "name": "ipython",
    "version": 2
   },
   "file_extension": ".py",
   "mimetype": "text/x-python",
   "name": "python",
   "nbconvert_exporter": "python",
   "pygments_lexer": "ipython2",
   "version": "2.7.6"
  }
 },
 "nbformat": 4,
 "nbformat_minor": 0
}