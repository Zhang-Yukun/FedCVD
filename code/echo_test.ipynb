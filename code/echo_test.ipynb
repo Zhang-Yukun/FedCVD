{
 "cells": [
  {
   "cell_type": "code",
   "id": "initial_id",
   "metadata": {
    "collapsed": true,
    "ExecuteTime": {
     "end_time": "2024-06-02T15:15:19.496934Z",
     "start_time": "2024-06-02T15:15:15.324101Z"
    }
   },
   "source": [
    "import pandas as pd\n",
    "import h5py\n",
    "import torch\n",
    "import numpy as np\n",
    "from code.model.resnet import resnet50, resnet1d34\n",
    "from code.model.unet import unet\n",
    "from code.utils.dataloader import ECHODataset\n",
    "from torch.utils.data import DataLoader\n",
    "import tqdm\n",
    "import matplotlib.pyplot as plt\n",
    "from torchmetrics import Dice\n",
    "from code.utils.evaluation import Accumulator, hausdorff_distance, cal_hd, shield, generate_pseudo_label\n",
    "from copy import deepcopy"
   ],
   "execution_count": 1,
   "outputs": []
  },
  {
   "metadata": {
    "ExecuteTime": {
     "end_time": "2024-06-02T15:15:19.566021Z",
     "start_time": "2024-06-02T15:15:19.498597Z"
    }
   },
   "cell_type": "code",
   "source": [
    "base_path = \"/data/zyk/data/dataset/ECHO/preprocessed/\"\n",
    "test_meta = pd.concat([\n",
    "    pd.read_csv(base_path + f\"{c}/test.csv\", dtype={\"ECHO_ID\": str}) for c in [\"client3\"]\n",
    "    ])\n",
    "test_meta.reset_index(inplace=True)\n",
    "test_dataset = ECHODataset(test_meta, base_path, [\"client3\"], \"records.h5\", 4, frac=1)\n",
    "print(len(test_dataset))"
   ],
   "id": "3a26657986e31356",
   "execution_count": 2,
   "outputs": []
  },
  {
   "metadata": {
    "ExecuteTime": {
     "end_time": "2024-06-02T15:15:19.573800Z",
     "start_time": "2024-06-02T15:15:19.568265Z"
    }
   },
   "cell_type": "code",
   "source": "print(test_dataset[0][1][0])",
   "id": "e61f5a05759e8a02",
   "execution_count": 3,
   "outputs": []
  },
  {
   "metadata": {
    "ExecuteTime": {
     "end_time": "2024-06-02T14:45:12.498194Z",
     "start_time": "2024-06-02T14:45:12.407659Z"
    }
   },
   "cell_type": "code",
   "source": [
    "test_meta = pd.concat([\n",
    "    pd.read_csv(base_path + f\"{c}/train.csv\", dtype={\"ECHO_ID\": str}) for c in [\"client3\"]\n",
    "    ])\n",
    "test_meta.reset_index(inplace=True)\n",
    "test1_dataset = ECHODataset(test_meta, base_path, [\"client3\"], \"records.h5\", 4, frac=0.2)\n",
    "print(len(test1_dataset), len(test_dataset))"
   ],
   "id": "f7a636c81bd40a5a",
   "execution_count": 9,
   "outputs": []
  },
  {
   "metadata": {
    "ExecuteTime": {
     "end_time": "2024-06-02T14:45:14.903985Z",
     "start_time": "2024-06-02T14:45:14.868033Z"
    }
   },
   "cell_type": "code",
   "source": [
    "loader1 = DataLoader(test1_dataset, batch_size=32, shuffle=False)\n",
    "loader2 = DataLoader(test_dataset, batch_size=32, shuffle=False)\n",
    "for x, y in zip(loader1, loader2):\n",
    "    print(x[0].shape, y[0].shape)\n",
    "for x in loader1:\n",
    "    print(x[0].shape)"
   ],
   "id": "d1c07e14c2f419aa",
   "execution_count": 10,
   "outputs": []
  },
  {
   "metadata": {
    "ExecuteTime": {
     "end_time": "2024-06-01T14:28:55.988641Z",
     "start_time": "2024-06-01T14:28:45.926434Z"
    }
   },
   "cell_type": "code",
   "source": [
    "client = \"client1\"\n",
    "base_path = \"/data/zyk/data/dataset/ECHO/preprocessed/\"\n",
    "train_meta = pd.read_csv(base_path + f\"{client}/train.csv\", dtype={\"ECHO_ID\": str})\n",
    "warm_up_dataset = ECHODataset(train_meta, base_path, [client], \"records.h5\", 4)\n",
    "# train_dataset = ECHODataset(train_meta, base_path, [client], \"records.h5\", 4)\n",
    "train_meta = pd.concat([\n",
    "    pd.read_csv(base_path + f\"{c}/train.csv\", dtype={\"ECHO_ID\": str}) for c in [\"client2\", \"client3\"]\n",
    "    ])\n",
    "train_meta.reset_index(inplace=True)\n",
    "train_dataset = ECHODataset(train_meta, base_path, [\"client2\", \"client3\"], \"records.h5\", 4, frac=1)\n",
    "test_meta = pd.concat([\n",
    "    pd.read_csv(base_path + f\"{c}/test.csv\", dtype={\"ECHO_ID\": str}) for c in [\"client1\", \"client2\", \"client3\"]\n",
    "    ])\n",
    "test_meta.reset_index(inplace=True)\n",
    "test_dataset = ECHODataset(test_meta, base_path, [\"client1\", \"client2\", \"client3\"], \"records.h5\", 4, frac=1)"
   ],
   "id": "33177921ac434b7b",
   "execution_count": 2,
   "outputs": []
  },
  {
   "metadata": {
    "ExecuteTime": {
     "end_time": "2024-06-01T14:28:57.212036Z",
     "start_time": "2024-06-01T14:28:56.545272Z"
    }
   },
   "cell_type": "code",
   "source": [
    "batch_size = 64\n",
    "lr = 0.1\n",
    "device = torch.device(\"cuda:0\" if torch.cuda.is_available() else \"cpu\")\n",
    "epochs = 50\n",
    "model = resnet50()\n",
    "model.backbone[\"conv1\"] = torch.nn.Conv2d(1, 64, kernel_size=(7, 7), stride=(2, 2), padding=(3, 3), bias=False)\n",
    "# model = unet()\n",
    "optimizer = torch.optim.SGD(model.parameters(), lr=lr)\n",
    "criterion = torch.nn.CrossEntropyLoss()"
   ],
   "id": "95cc74f217c59556",
   "execution_count": 3,
   "outputs": []
  },
  {
   "metadata": {
    "ExecuteTime": {
     "end_time": "2024-06-01T14:28:58.420862Z",
     "start_time": "2024-06-01T14:28:58.415733Z"
    }
   },
   "cell_type": "code",
   "source": [
    "def dice(pred, target, class_set=(1, 2, 3)):\n",
    "    if pred.dim() == 4:\n",
    "        pred = torch.argmax(pred, dim=1)\n",
    "    dice_scores = torch.zeros(len(class_set))\n",
    "    for idx, c in enumerate(class_set):\n",
    "        pred_c = torch.where(pred == c, 1, 0)\n",
    "        target_c = torch.where(target == c, 1, 0)\n",
    "        intersection = (pred_c * target_c).sum()\n",
    "        union = pred_c.sum() + target_c.sum()\n",
    "        dice_c = 2 * intersection / union\n",
    "        dice_scores[idx] = dice_c\n",
    "    return torch.mean(dice_scores)\n",
    "\n",
    "def alpha(epoch):\n",
    "    if epoch < 10:\n",
    "        return 0.01 * epoch\n",
    "    return 1\n"
   ],
   "id": "a033e94718f51bff",
   "execution_count": 4,
   "outputs": []
  },
  {
   "metadata": {
    "ExecuteTime": {
     "end_time": "2024-06-01T14:29:03.447629Z",
     "start_time": "2024-06-01T14:29:03.441138Z"
    }
   },
   "cell_type": "code",
   "source": [
    "warm_up_loader = DataLoader(warm_up_dataset, batch_size=batch_size, shuffle=True)\n",
    "train_loader = DataLoader(train_dataset, batch_size=batch_size, shuffle=True)\n",
    "test_loader = DataLoader(test_dataset, batch_size=batch_size, shuffle=False)"
   ],
   "id": "5b0ae91a6ba86b8f",
   "execution_count": 5,
   "outputs": []
  },
  {
   "metadata": {
    "ExecuteTime": {
     "end_time": "2024-06-01T15:51:24.395439Z",
     "start_time": "2024-06-01T15:51:24.134774Z"
    }
   },
   "cell_type": "code",
   "source": [
    "dice_macro = Dice(ignore_index=0, num_classes=4, average=\"macro\").to(device)\n",
    "dice_micro = Dice(ignore_index=0, num_classes=4, average=\"micro\").to(device)\n",
    "model.to(device)"
   ],
   "id": "961dc14aadec4353",
   "execution_count": 26,
   "outputs": []
  },
  {
   "metadata": {
    "ExecuteTime": {
     "end_time": "2024-06-01T14:29:56.873895Z",
     "start_time": "2024-06-01T14:29:06.663445Z"
    }
   },
   "cell_type": "code",
   "source": [
    "warm_up_metric = Accumulator(5)\n",
    "description = \"Train Loss {:.8f} | Dice Macro:{:.2f} | Dice Micro:{:.2f} | HD:{:.2f}\"\n",
    "bar = tqdm.tqdm(initial=0, leave=True, total=len(warm_up_loader) * 10,\n",
    "                 desc=description.format(0, 0, 0, 0), position=0)\n",
    "for epoch in range(10):\n",
    "    model.train()\n",
    "    for i, (data, target, label_type) in enumerate(warm_up_loader):\n",
    "        data, target = data.to(device), target.to(device)\n",
    "        output = model(data)[\"out\"]\n",
    "        loss = criterion(output, target)\n",
    "        \n",
    "        optimizer.zero_grad()\n",
    "        loss.backward()\n",
    "        optimizer.step()\n",
    "        with torch.no_grad():\n",
    "            pred_label = torch.argmax(output, dim=1)\n",
    "            shield_pred_label = shield(pred_label, label_type)\n",
    "        warm_up_metric.add(\n",
    "            float(loss) * len(data),\n",
    "            dice_macro(shield_pred_label, target) * len(data),\n",
    "            dice_micro(shield_pred_label, target) * len(data),\n",
    "            # 0,\n",
    "            cal_hd(shield_pred_label.cpu().numpy(), target.cpu().numpy(), mask=label_type) * len(data),\n",
    "            len(data))\n",
    "        bar.desc = description.format( warm_up_metric[0] /  warm_up_metric[-1],  warm_up_metric[1] /  warm_up_metric[-1],  warm_up_metric[2] /  warm_up_metric[-1],  warm_up_metric[3] /  warm_up_metric[-1])\n",
    "        bar.update(1)\n",
    "bar.close()\n",
    "        # if i % 10 == 0:\n",
    "        #     print(f\"Epoch {epoch}, Step {i}, Loss {loss.item()}\")"
   ],
   "id": "d368b728d086e7a8",
   "execution_count": 7,
   "outputs": []
  },
  {
   "metadata": {
    "ExecuteTime": {
     "end_time": "2024-06-01T15:52:01.058103Z",
     "start_time": "2024-06-01T15:52:00.221465Z"
    }
   },
   "cell_type": "code",
   "source": [
    "for x, y, z in warm_up_loader:\n",
    "    x, y, z = x[:3], y[:3], z[:3]\n",
    "    x, y = x.to(device), y.to(device)\n",
    "    with torch.no_grad():\n",
    "        output = model(x)[\"out\"]\n",
    "        pred_label = torch.argmax(output, dim=1)\n",
    "        pseudo_label = generate_pseudo_label(pred_label, y, z)\n",
    "        shield_pred_label = shield(pred_label, z)\n",
    "        # print(id(shield_pred_label), id(pred_label))\n",
    "        fig, ax = plt.subplots(3, 5)\n",
    "        for i in range(3):\n",
    "            ax[i, 0].imshow(x[i][0].cpu().numpy(), cmap=\"gray\")\n",
    "            ax[i, 1].imshow(y[i].cpu().numpy())\n",
    "            ax[i, 2].imshow(shield_pred_label[i].cpu().numpy())\n",
    "            ax[i, 3].imshow(pseudo_label[i].cpu().numpy())\n",
    "            ax[i, 4].imshow(pred_label[i].cpu().numpy())\n",
    "        plt.show()\n",
    "    break"
   ],
   "id": "5f6c9fe31af451c",
   "execution_count": 31,
   "outputs": []
  },
  {
   "metadata": {
    "ExecuteTime": {
     "end_time": "2024-06-01T15:53:49.064464Z",
     "start_time": "2024-06-01T15:53:46.807406Z"
    }
   },
   "cell_type": "code",
   "source": [
    "metric = Accumulator(5)\n",
    "description = \"Train Loss {:.8f} | Dice Macro:{:.2f} | Dice Micro:{:.2f} | HD:{:.2f}\"\n",
    "bar = tqdm.tqdm(initial=0, leave=True, total=(len(train_loader) + len(warm_up_loader)) * epochs,\n",
    "                 desc=description.format(0, 0, 0, 0), position=0)\n",
    "for epoch in range(epochs):\n",
    "    model.train()\n",
    "    for i, (data, target, label_type) in enumerate(warm_up_loader):\n",
    "        data, target = data.to(device), target.to(device)\n",
    "        output = model(data)[\"out\"]\n",
    "        loss = criterion(output, target)\n",
    "        \n",
    "        optimizer.zero_grad()\n",
    "        loss.backward()\n",
    "        optimizer.step()\n",
    "        with torch.no_grad():\n",
    "            pred_label = torch.argmax(output, dim=1)\n",
    "            shield_pred_label = shield(pred_label, label_type)\n",
    "        metric.add(\n",
    "            float(loss) * len(data),\n",
    "            dice_macro(shield_pred_label, target) * len(data),\n",
    "            dice_micro(shield_pred_label, target) * len(data),\n",
    "            # 0,\n",
    "            cal_hd(shield_pred_label.cpu().numpy(), target.cpu().numpy(), mask=label_type) * len(data),\n",
    "            len(data))\n",
    "        bar.desc = description.format(metric[0] / metric[-1], metric[1] / metric[-1], metric[2] / metric[-1], metric[3] / metric[-1])\n",
    "        bar.update(1)\n",
    "    for i, (data, target, label_type) in enumerate(train_loader):\n",
    "        data, target = data.to(device), target.to(device)\n",
    "        with torch.no_grad():\n",
    "            output = model(data)[\"out\"]\n",
    "            pred_label = torch.argmax(output, dim=1)\n",
    "            # print(data.shape, output.shape, label_type.shape)\n",
    "            pseudo_target = generate_pseudo_label(pred_label, target, label_type)\n",
    "        output = model(data)[\"out\"]\n",
    "        loss = alpha(epoch) * criterion(output, pseudo_target)\n",
    "        \n",
    "        optimizer.zero_grad()\n",
    "        loss.backward()\n",
    "        optimizer.step()\n",
    "        with torch.no_grad():\n",
    "            pred_label = torch.argmax(output, dim=1)\n",
    "            shield_pred_label = shield(pred_label, label_type)\n",
    "        metric.add(\n",
    "            float(loss) * len(data),\n",
    "            dice_macro(shield_pred_label, target) * len(data),\n",
    "            dice_micro(shield_pred_label, target) * len(data),\n",
    "            # 0,\n",
    "            cal_hd(shield_pred_label.cpu().numpy(), target.cpu().numpy(), mask=label_type) * len(data),\n",
    "            len(data))\n",
    "        bar.desc = description.format(metric[0] / metric[-1], metric[1] / metric[-1], metric[2] / metric[-1], metric[3] / metric[-1])\n",
    "        bar.update(1)\n",
    "bar.close()\n"
   ],
   "id": "599873784621df06",
   "execution_count": 32,
   "outputs": []
  },
  {
   "metadata": {},
   "cell_type": "code",
   "execution_count": null,
   "source": "",
   "id": "c117e8fa9efb442c",
   "outputs": []
  },
  {
   "metadata": {
    "ExecuteTime": {
     "end_time": "2024-06-01T15:48:07.033926Z",
     "start_time": "2024-06-01T15:47:55.176393Z"
    }
   },
   "cell_type": "code",
   "source": [
    "test_metric = Accumulator(5)\n",
    "description = \"Test Loss {:.8f} | Dice Macro:{:.2f} | Dice Micro:{:.2f} | HD:{:.2f}\"\n",
    "bar = tqdm.tqdm(initial=0, leave=True, total=len(test_loader),\n",
    "                 desc=description.format(0, 0, 0, 0), position=0)\n",
    "model.train()\n",
    "for i, (data, target, label_type) in enumerate(test_loader):\n",
    "    data, target = data.to(device), target.to(device)\n",
    "    with torch.no_grad():\n",
    "        output = model(data)[\"out\"]\n",
    "        loss = criterion(output, target)\n",
    "        pred_label = torch.argmax(output, dim=1)\n",
    "        shield_pred_label = shield(pred_label, label_type)\n",
    "        test_metric.add(\n",
    "            float(loss) * len(data),\n",
    "            dice_macro(shield_pred_label, target) * len(data),\n",
    "            dice_micro(shield_pred_label, target) * len(data),\n",
    "            # 0,\n",
    "            cal_hd(shield_pred_label.cpu().numpy(), target.cpu().numpy(), mask=label_type) * len(data),\n",
    "            len(data))\n",
    "    bar.desc = description.format(test_metric[0] / test_metric[-1], test_metric[1] / test_metric[-1],\n",
    "                                  test_metric[2] / test_metric[-1], test_metric[3] / test_metric[-1]\n",
    "                                  )\n",
    "    bar.update(1)\n",
    "bar.close()"
   ],
   "id": "c87a95e3c1c0c4d3",
   "execution_count": 12,
   "outputs": []
  },
  {
   "metadata": {
    "ExecuteTime": {
     "end_time": "2024-05-31T14:23:43.500905Z",
     "start_time": "2024-05-31T14:23:43.494564Z"
    }
   },
   "cell_type": "code",
   "source": [
    "print(metric[0] / metric[2], metric[1] / metric[2])\n",
    "print(test_metric[0] / test_metric[2], test_metric[1] / test_metric[2])"
   ],
   "id": "6e131f764d6d156",
   "execution_count": 7,
   "outputs": []
  },
  {
   "metadata": {
    "ExecuteTime": {
     "end_time": "2024-05-30T18:29:07.918116Z",
     "start_time": "2024-05-30T18:29:07.651860Z"
    }
   },
   "cell_type": "code",
   "source": [
    "# torch.save({\n",
    "#     \"model\": model.state_dict()\n",
    "# }, \"/data/zyk/code/resnet.pth\"\n",
    "# )"
   ],
   "id": "7632df9e0e00a2d1",
   "execution_count": 74,
   "outputs": []
  },
  {
   "metadata": {},
   "cell_type": "code",
   "execution_count": null,
   "source": "",
   "id": "60c2f47e766dd179",
   "outputs": []
  },
  {
   "metadata": {
    "ExecuteTime": {
     "end_time": "2024-06-01T15:50:16.349154Z",
     "start_time": "2024-06-01T15:50:15.539042Z"
    }
   },
   "cell_type": "code",
   "source": [
    "model.eval()\n",
    "model.to(torch.device(\"cpu\"))\n",
    "x, l, z = test_dataset[0]\n",
    "x = x.reshape(1, *x.shape)\n",
    "y = model(x)[\"out\"]\n",
    "py = shield(y, z)"
   ],
   "id": "840fef5cc5b1ca83",
   "execution_count": 22,
   "outputs": []
  },
  {
   "metadata": {
    "ExecuteTime": {
     "end_time": "2024-06-01T15:50:16.844205Z",
     "start_time": "2024-06-01T15:50:16.815972Z"
    }
   },
   "cell_type": "code",
   "source": [
    "hd = cal_hd(py.detach().numpy().reshape(1, 112, 112), l.detach().numpy().reshape(1, 112, 112), z)\n",
    "print(hd)"
   ],
   "id": "b7cc3e3e1ac8a1c6",
   "execution_count": 23,
   "outputs": []
  },
  {
   "metadata": {
    "ExecuteTime": {
     "end_time": "2024-06-01T15:50:17.822683Z",
     "start_time": "2024-06-01T15:50:17.805119Z"
    }
   },
   "cell_type": "code",
   "source": [
    "# print(dice(y, l))\n",
    "d = Dice(ignore_index=0, num_classes=4, average=\"macro\")\n",
    "print(d(py, l))\n",
    "# print(dice(py, l, class_set=[1]))\n",
    "# print(py)"
   ],
   "id": "b2c983557419c09",
   "execution_count": 24,
   "outputs": []
  },
  {
   "metadata": {
    "ExecuteTime": {
     "end_time": "2024-06-01T15:50:18.795763Z",
     "start_time": "2024-06-01T15:50:18.525810Z"
    }
   },
   "cell_type": "code",
   "source": [
    "fig, ax = plt.subplots(1, 3)\n",
    "ax[0].imshow(x[0][0].numpy(), cmap=\"gray\")\n",
    "ax[0].imshow(l.numpy(), alpha=0.5)\n",
    "ax[1].imshow(x[0][0].numpy(), cmap=\"gray\")\n",
    "ax[1].imshow(py[0].detach().numpy(), alpha=0.5)\n",
    "ax[2].imshow(x[0][0].numpy(), cmap=\"gray\")\n",
    "ax[2].imshow(y.argmax(dim=1).detach().numpy()[0], alpha=0.5)\n",
    "plt.show()\n",
    "# gt = l.numpy()\n",
    "# p = py.numpy()\n",
    "# plt.imshow(gt)\n",
    "# plt.show()\n",
    "# plt.imshow(p[0])\n",
    "# plt.show()\n",
    "# plt.imshow(y.argmax(dim=1).detach().numpy()[0])"
   ],
   "id": "33c2fa13c7b27484",
   "execution_count": 25,
   "outputs": []
  },
  {
   "metadata": {
    "ExecuteTime": {
     "end_time": "2024-05-31T12:06:34.419060Z",
     "start_time": "2024-05-31T12:06:34.415602Z"
    }
   },
   "cell_type": "code",
   "source": "print(l[75])",
   "id": "be02c124a7303bc4",
   "execution_count": 17,
   "outputs": []
  },
  {
   "metadata": {
    "ExecuteTime": {
     "end_time": "2024-06-02T15:57:09.352737Z",
     "start_time": "2024-06-02T15:57:09.346849Z"
    }
   },
   "cell_type": "code",
   "source": [
    "x = torch.tensor([0, 2, 1, 1])\n",
    "y = torch.tensor([0, 0, 1, 2])\n",
    "d = Dice(ignore_index=None, num_classes=3, average=\"macro\")\n",
    "print(d(x, y))"
   ],
   "id": "c727a3b694cb6150",
   "execution_count": 40,
   "outputs": []
  },
  {
   "metadata": {},
   "cell_type": "code",
   "execution_count": null,
   "source": "",
   "id": "7fc0e39492614877",
   "outputs": []
  }
 ],
 "metadata": {
  "kernelspec": {
   "display_name": "Python 3",
   "language": "python",
   "name": "python3"
  },
  "language_info": {
   "codemirror_mode": {
    "name": "ipython",
    "version": 2
   },
   "file_extension": ".py",
   "mimetype": "text/x-python",
   "name": "python",
   "nbconvert_exporter": "python",
   "pygments_lexer": "ipython2",
   "version": "2.7.6"
  }
 },
 "nbformat": 4,
 "nbformat_minor": 5
}
