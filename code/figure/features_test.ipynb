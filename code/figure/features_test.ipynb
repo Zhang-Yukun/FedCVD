{
 "cells": [
  {
   "cell_type": "code",
   "id": "initial_id",
   "metadata": {
    "collapsed": true,
    "ExecuteTime": {
     "end_time": "2024-05-28T06:46:00.210712Z",
     "start_time": "2024-05-28T06:46:00.202515Z"
    }
   },
   "source": [
    "import pandas as pd\n",
    "import seaborn as sns\n",
    "import matplotlib.pyplot as plt\n",
    "import matplotlib_inline.backend_inline as backend_inline\n",
    "import numpy as np\n",
    "import tqdm"
   ],
   "outputs": [],
   "execution_count": 26
  },
  {
   "metadata": {
    "ExecuteTime": {
     "end_time": "2024-05-28T07:08:55.801197Z",
     "start_time": "2024-05-28T07:08:55.716628Z"
    }
   },
   "cell_type": "code",
   "source": [
    "ecg_clients_df = [pd.read_csv(f\"/data/zyk/data/dataset/ECG/preprocessed/client{idx}/metadata_20.csv\", dtype={\"ECG_ID\": str}) for idx in range(1, 5)]\n",
    "ecg_df = pd.concat(ecg_clients_df)\n",
    "ecg_df.reset_index(inplace=True)"
   ],
   "id": "ce127d26939952ab",
   "outputs": [],
   "execution_count": 40
  },
  {
   "metadata": {
    "ExecuteTime": {
     "end_time": "2024-05-28T07:09:21.864385Z",
     "start_time": "2024-05-28T07:09:21.860081Z"
    }
   },
   "cell_type": "code",
   "source": [
    "client_labels = {\n",
    "    \"client1\": {},\n",
    "    \"client2\": {},\n",
    "    \"client3\": {},\n",
    "    \"client4\": {}\n",
    "}"
   ],
   "id": "a295f6d0ee6dc98a",
   "outputs": [],
   "execution_count": 44
  },
  {
   "metadata": {
    "ExecuteTime": {
     "end_time": "2024-05-28T07:09:22.198078Z",
     "start_time": "2024-05-28T07:09:22.193313Z"
    }
   },
   "cell_type": "code",
   "source": [
    "ecg_dict = {\n",
    "    0: \"NORM\",\n",
    "    1: \"STACH\",\n",
    "    2: \"SBRAD\",\n",
    "    3: \"SARRH\",\n",
    "    4: \"PAC\",\n",
    "    5: \"AFIB\",\n",
    "    6: \"AFLT\",\n",
    "    7: \"SVTAC\",\n",
    "    8: \"PVC\",\n",
    "    9: \"1AVB\",\n",
    "    10: \"2AVB\",\n",
    "    11: \"3AVB\",\n",
    "    12: \"LBBB\",\n",
    "    13: \"RBBB\",\n",
    "    14: \"LAO/LAE\",\n",
    "    15: \"LVH\",\n",
    "    16: \"RVH\",\n",
    "    17: \"AMI\",\n",
    "    18: \"IMI\",\n",
    "    19: \"ASMI\"\n",
    "}"
   ],
   "id": "da237609ac2a6b5e",
   "outputs": [],
   "execution_count": 45
  },
  {
   "metadata": {
    "ExecuteTime": {
     "end_time": "2024-05-28T07:09:39.938651Z",
     "start_time": "2024-05-28T07:09:22.671184Z"
    }
   },
   "cell_type": "code",
   "source": [
    "for i, ecg_client_df in enumerate(ecg_clients_df):\n",
    "    ecg_client_df[list(ecg_dict.values())] = 0\n",
    "    for idx in tqdm.tqdm(range(len(ecg_client_df))):\n",
    "        labels = [int(x) for x in ecg_client_df.loc[idx, \"Code_Label\"].split(\";\")]\n",
    "        for label in labels:\n",
    "            ecg_client_df.loc[idx, ecg_dict[label]] = 1\n",
    "    for label in ecg_dict.values():\n",
    "        client_labels[f\"client{i+1}\"][label] = ecg_client_df[label].sum()"
   ],
   "id": "941e9f1d53480fb8",
   "outputs": [
    {
     "name": "stderr",
     "output_type": "stream",
     "text": [
      "100%|██████████| 22425/22425 [00:04<00:00, 5280.36it/s]\n",
      "100%|██████████| 19019/19019 [00:04<00:00, 4244.96it/s]\n",
      "100%|██████████| 36272/36272 [00:07<00:00, 5129.76it/s]\n",
      "100%|██████████| 6205/6205 [00:01<00:00, 4371.10it/s]\n"
     ]
    }
   ],
   "execution_count": 46
  },
  {
   "metadata": {
    "ExecuteTime": {
     "end_time": "2024-05-28T07:09:47.987075Z",
     "start_time": "2024-05-28T07:09:47.983781Z"
    }
   },
   "cell_type": "code",
   "source": "print(client_labels)",
   "id": "6b11254486c9f346",
   "outputs": [
    {
     "name": "stdout",
     "output_type": "stream",
     "text": [
      "{'client1': {'NORM': 13905, 'STACH': 725, 'SBRAD': 2711, 'SARRH': 1553, 'PAC': 539, 'AFIB': 675, 'AFLT': 99, 'SVTAC': 0, 'PVC': 1067, '1AVB': 0, '2AVB': 96, '3AVB': 22, 'LBBB': 244, 'RBBB': 1968, 'LAO/LAE': 19, 'LVH': 209, 'RVH': 6, 'AMI': 52, 'IMI': 120, 'ASMI': 91}, 'client2': {'NORM': 9483, 'STACH': 803, 'SBRAD': 634, 'SARRH': 763, 'PAC': 387, 'AFIB': 1451, 'AFLT': 73, 'SVTAC': 26, 'PVC': 1109, '1AVB': 768, '2AVB': 11, '3AVB': 13, 'LBBB': 2240, 'RBBB': 1623, 'LAO/LAE': 417, 'LVH': 2088, 'RVH': 121, 'AMI': 345, 'IMI': 2633, 'ASMI': 2278}, 'client3': {'NORM': 0, 'STACH': 7226, 'SBRAD': 16508, 'SARRH': 2529, 'PAC': 0, 'AFIB': 1780, 'AFLT': 7996, 'SVTAC': 687, 'PVC': 0, '1AVB': 1133, '2AVB': 97, '3AVB': 76, 'LBBB': 624, 'RBBB': 888, 'LAO/LAE': 1, 'LVH': 636, 'RVH': 0, 'AMI': 0, 'IMI': 0, 'ASMI': 0}, 'client4': {'NORM': 0, 'STACH': 1250, 'SBRAD': 1671, 'SARRH': 453, 'PAC': 0, 'AFIB': 568, 'AFLT': 185, 'SVTAC': 32, 'PVC': 41, '1AVB': 767, '2AVB': 23, '3AVB': 8, 'LBBB': 432, 'RBBB': 881, 'LAO/LAE': 866, 'LVH': 1231, 'RVH': 0, 'AMI': 0, 'IMI': 0, 'ASMI': 0}}\n"
     ]
    }
   ],
   "execution_count": 47
  },
  {
   "metadata": {},
   "cell_type": "code",
   "outputs": [
    {
     "data": {
      "text/plain": [
       "   index  ECG_ID Code_Label  Age Sex  Method Location\n",
       "0      0  000000        2;3   55   M       1  client1\n",
       "1      1  000001          0   32   M       3  client1\n",
       "2      2  000002          0   63   M       3  client1\n",
       "3      3  000003          3   31   M       1  client1\n",
       "4      4  000004          0   46   F       1  client1"
      ],
      "text/html": [
       "<div>\n",
       "<style scoped>\n",
       "    .dataframe tbody tr th:only-of-type {\n",
       "        vertical-align: middle;\n",
       "    }\n",
       "\n",
       "    .dataframe tbody tr th {\n",
       "        vertical-align: top;\n",
       "    }\n",
       "\n",
       "    .dataframe thead th {\n",
       "        text-align: right;\n",
       "    }\n",
       "</style>\n",
       "<table border=\"1\" class=\"dataframe\">\n",
       "  <thead>\n",
       "    <tr style=\"text-align: right;\">\n",
       "      <th></th>\n",
       "      <th>index</th>\n",
       "      <th>ECG_ID</th>\n",
       "      <th>Code_Label</th>\n",
       "      <th>Age</th>\n",
       "      <th>Sex</th>\n",
       "      <th>Method</th>\n",
       "      <th>Location</th>\n",
       "    </tr>\n",
       "  </thead>\n",
       "  <tbody>\n",
       "    <tr>\n",
       "      <th>0</th>\n",
       "      <td>0</td>\n",
       "      <td>000000</td>\n",
       "      <td>2;3</td>\n",
       "      <td>55</td>\n",
       "      <td>M</td>\n",
       "      <td>1</td>\n",
       "      <td>client1</td>\n",
       "    </tr>\n",
       "    <tr>\n",
       "      <th>1</th>\n",
       "      <td>1</td>\n",
       "      <td>000001</td>\n",
       "      <td>0</td>\n",
       "      <td>32</td>\n",
       "      <td>M</td>\n",
       "      <td>3</td>\n",
       "      <td>client1</td>\n",
       "    </tr>\n",
       "    <tr>\n",
       "      <th>2</th>\n",
       "      <td>2</td>\n",
       "      <td>000002</td>\n",
       "      <td>0</td>\n",
       "      <td>63</td>\n",
       "      <td>M</td>\n",
       "      <td>3</td>\n",
       "      <td>client1</td>\n",
       "    </tr>\n",
       "    <tr>\n",
       "      <th>3</th>\n",
       "      <td>3</td>\n",
       "      <td>000003</td>\n",
       "      <td>3</td>\n",
       "      <td>31</td>\n",
       "      <td>M</td>\n",
       "      <td>1</td>\n",
       "      <td>client1</td>\n",
       "    </tr>\n",
       "    <tr>\n",
       "      <th>4</th>\n",
       "      <td>4</td>\n",
       "      <td>000004</td>\n",
       "      <td>0</td>\n",
       "      <td>46</td>\n",
       "      <td>F</td>\n",
       "      <td>1</td>\n",
       "      <td>client1</td>\n",
       "    </tr>\n",
       "  </tbody>\n",
       "</table>\n",
       "</div>"
      ]
     },
     "execution_count": 28,
     "metadata": {},
     "output_type": "execute_result"
    }
   ],
   "execution_count": 28,
   "source": "ecg_df.head()",
   "id": "5db068a786f76a05"
  },
  {
   "metadata": {
    "ExecuteTime": {
     "end_time": "2024-05-28T06:46:32.871123Z",
     "start_time": "2024-05-28T06:46:14.474521Z"
    }
   },
   "cell_type": "code",
   "source": [
    "ecg_df[list(ecg_dict.values())] = 0\n",
    "for idx in tqdm.tqdm(range(len(ecg_df))):\n",
    "    labels = [int(x) for x in ecg_df.loc[idx, \"Code_Label\"].split(\";\")]\n",
    "    for label in labels:\n",
    "        ecg_df.loc[idx, ecg_dict[label]] = 1"
   ],
   "id": "a307bb5bebcb458f",
   "outputs": [
    {
     "name": "stderr",
     "output_type": "stream",
     "text": [
      "100%|██████████| 83921/83921 [00:18<00:00, 4571.07it/s]\n"
     ]
    }
   ],
   "execution_count": 30
  },
  {
   "metadata": {
    "ExecuteTime": {
     "end_time": "2024-05-28T06:46:36.414086Z",
     "start_time": "2024-05-28T06:46:36.391721Z"
    }
   },
   "cell_type": "code",
   "source": "ecg_df.head()",
   "id": "d7c89a19d75fcaaf",
   "outputs": [
    {
     "data": {
      "text/plain": [
       "   index  ECG_ID Code_Label  Age Sex  Method Location  NORM  STACH  SBRAD  \\\n",
       "0      0  000000        2;3   55   M       1  client1     0      0      1   \n",
       "1      1  000001          0   32   M       3  client1     1      0      0   \n",
       "2      2  000002          0   63   M       3  client1     1      0      0   \n",
       "3      3  000003          3   31   M       1  client1     0      0      0   \n",
       "4      4  000004          0   46   F       1  client1     1      0      0   \n",
       "\n",
       "   ...  2AVB  3AVB  LBBB  RBBB  LAO/LAE  LVH  RVH  AMI  IMI  ASMI  \n",
       "0  ...     0     0     0     0        0    0    0    0    0     0  \n",
       "1  ...     0     0     0     0        0    0    0    0    0     0  \n",
       "2  ...     0     0     0     0        0    0    0    0    0     0  \n",
       "3  ...     0     0     0     0        0    0    0    0    0     0  \n",
       "4  ...     0     0     0     0        0    0    0    0    0     0  \n",
       "\n",
       "[5 rows x 27 columns]"
      ],
      "text/html": [
       "<div>\n",
       "<style scoped>\n",
       "    .dataframe tbody tr th:only-of-type {\n",
       "        vertical-align: middle;\n",
       "    }\n",
       "\n",
       "    .dataframe tbody tr th {\n",
       "        vertical-align: top;\n",
       "    }\n",
       "\n",
       "    .dataframe thead th {\n",
       "        text-align: right;\n",
       "    }\n",
       "</style>\n",
       "<table border=\"1\" class=\"dataframe\">\n",
       "  <thead>\n",
       "    <tr style=\"text-align: right;\">\n",
       "      <th></th>\n",
       "      <th>index</th>\n",
       "      <th>ECG_ID</th>\n",
       "      <th>Code_Label</th>\n",
       "      <th>Age</th>\n",
       "      <th>Sex</th>\n",
       "      <th>Method</th>\n",
       "      <th>Location</th>\n",
       "      <th>NORM</th>\n",
       "      <th>STACH</th>\n",
       "      <th>SBRAD</th>\n",
       "      <th>...</th>\n",
       "      <th>2AVB</th>\n",
       "      <th>3AVB</th>\n",
       "      <th>LBBB</th>\n",
       "      <th>RBBB</th>\n",
       "      <th>LAO/LAE</th>\n",
       "      <th>LVH</th>\n",
       "      <th>RVH</th>\n",
       "      <th>AMI</th>\n",
       "      <th>IMI</th>\n",
       "      <th>ASMI</th>\n",
       "    </tr>\n",
       "  </thead>\n",
       "  <tbody>\n",
       "    <tr>\n",
       "      <th>0</th>\n",
       "      <td>0</td>\n",
       "      <td>000000</td>\n",
       "      <td>2;3</td>\n",
       "      <td>55</td>\n",
       "      <td>M</td>\n",
       "      <td>1</td>\n",
       "      <td>client1</td>\n",
       "      <td>0</td>\n",
       "      <td>0</td>\n",
       "      <td>1</td>\n",
       "      <td>...</td>\n",
       "      <td>0</td>\n",
       "      <td>0</td>\n",
       "      <td>0</td>\n",
       "      <td>0</td>\n",
       "      <td>0</td>\n",
       "      <td>0</td>\n",
       "      <td>0</td>\n",
       "      <td>0</td>\n",
       "      <td>0</td>\n",
       "      <td>0</td>\n",
       "    </tr>\n",
       "    <tr>\n",
       "      <th>1</th>\n",
       "      <td>1</td>\n",
       "      <td>000001</td>\n",
       "      <td>0</td>\n",
       "      <td>32</td>\n",
       "      <td>M</td>\n",
       "      <td>3</td>\n",
       "      <td>client1</td>\n",
       "      <td>1</td>\n",
       "      <td>0</td>\n",
       "      <td>0</td>\n",
       "      <td>...</td>\n",
       "      <td>0</td>\n",
       "      <td>0</td>\n",
       "      <td>0</td>\n",
       "      <td>0</td>\n",
       "      <td>0</td>\n",
       "      <td>0</td>\n",
       "      <td>0</td>\n",
       "      <td>0</td>\n",
       "      <td>0</td>\n",
       "      <td>0</td>\n",
       "    </tr>\n",
       "    <tr>\n",
       "      <th>2</th>\n",
       "      <td>2</td>\n",
       "      <td>000002</td>\n",
       "      <td>0</td>\n",
       "      <td>63</td>\n",
       "      <td>M</td>\n",
       "      <td>3</td>\n",
       "      <td>client1</td>\n",
       "      <td>1</td>\n",
       "      <td>0</td>\n",
       "      <td>0</td>\n",
       "      <td>...</td>\n",
       "      <td>0</td>\n",
       "      <td>0</td>\n",
       "      <td>0</td>\n",
       "      <td>0</td>\n",
       "      <td>0</td>\n",
       "      <td>0</td>\n",
       "      <td>0</td>\n",
       "      <td>0</td>\n",
       "      <td>0</td>\n",
       "      <td>0</td>\n",
       "    </tr>\n",
       "    <tr>\n",
       "      <th>3</th>\n",
       "      <td>3</td>\n",
       "      <td>000003</td>\n",
       "      <td>3</td>\n",
       "      <td>31</td>\n",
       "      <td>M</td>\n",
       "      <td>1</td>\n",
       "      <td>client1</td>\n",
       "      <td>0</td>\n",
       "      <td>0</td>\n",
       "      <td>0</td>\n",
       "      <td>...</td>\n",
       "      <td>0</td>\n",
       "      <td>0</td>\n",
       "      <td>0</td>\n",
       "      <td>0</td>\n",
       "      <td>0</td>\n",
       "      <td>0</td>\n",
       "      <td>0</td>\n",
       "      <td>0</td>\n",
       "      <td>0</td>\n",
       "      <td>0</td>\n",
       "    </tr>\n",
       "    <tr>\n",
       "      <th>4</th>\n",
       "      <td>4</td>\n",
       "      <td>000004</td>\n",
       "      <td>0</td>\n",
       "      <td>46</td>\n",
       "      <td>F</td>\n",
       "      <td>1</td>\n",
       "      <td>client1</td>\n",
       "      <td>1</td>\n",
       "      <td>0</td>\n",
       "      <td>0</td>\n",
       "      <td>...</td>\n",
       "      <td>0</td>\n",
       "      <td>0</td>\n",
       "      <td>0</td>\n",
       "      <td>0</td>\n",
       "      <td>0</td>\n",
       "      <td>0</td>\n",
       "      <td>0</td>\n",
       "      <td>0</td>\n",
       "      <td>0</td>\n",
       "      <td>0</td>\n",
       "    </tr>\n",
       "  </tbody>\n",
       "</table>\n",
       "<p>5 rows × 27 columns</p>\n",
       "</div>"
      ]
     },
     "execution_count": 31,
     "metadata": {},
     "output_type": "execute_result"
    }
   ],
   "execution_count": 31
  },
  {
   "metadata": {
    "ExecuteTime": {
     "end_time": "2024-05-28T06:33:28.757225Z",
     "start_time": "2024-05-28T06:33:26.524800Z"
    }
   },
   "cell_type": "code",
   "source": [
    "sns.kdeplot(ecg_df, x=\"Age\", hue=\"Location\", multiple=\"layer\", fill=True)\n",
    "sns.histplot(ecg_df, x=\"Age\", hue=\"Location\", multiple=\"layer\", fill=True)"
   ],
   "id": "4329271c335594ef",
   "outputs": [
    {
     "data": {
      "text/plain": [
       "<Axes: xlabel='Age', ylabel='Density'>"
      ]
     },
     "execution_count": 16,
     "metadata": {},
     "output_type": "execute_result"
    },
    {
     "data": {
      "text/plain": [
       "<Figure size 640x480 with 1 Axes>"
      ],
      "image/png": "[encoded data removed]"
     },
     "metadata": {},
     "output_type": "display_data"
    }
   ],
   "execution_count": 16
  },
  {
   "metadata": {
    "ExecuteTime": {
     "end_time": "2024-05-28T06:51:30.537246Z",
     "start_time": "2024-05-28T06:51:30.052362Z"
    }
   },
   "cell_type": "code",
   "source": "sns.countplot(ecg_df, x=\"NORM\", hue=\"Location\")",
   "id": "8e5a9bbbd94c8d54",
   "outputs": [
    {
     "data": {
      "text/plain": [
       "<Axes: xlabel='NORM', ylabel='count'>"
      ]
     },
     "execution_count": 34,
     "metadata": {},
     "output_type": "execute_result"
    },
    {
     "data": {
      "text/plain": [
       "<Figure size 640x480 with 1 Axes>"
      ],
      "image/png": "[encoded data removed]"
     },
     "metadata": {},
     "output_type": "display_data"
    }
   ],
   "execution_count": 34
  },
  {
   "metadata": {},
   "cell_type": "code",
   "outputs": [],
   "execution_count": null,
   "source": "",
   "id": "beeb9f795c4b397a"
  }
 ],
 "metadata": {
  "kernelspec": {
   "display_name": "Python 3",
   "language": "python",
   "name": "python3"
  },
  "language_info": {
   "codemirror_mode": {
    "name": "ipython",
    "version": 2
   },
   "file_extension": ".py",
   "mimetype": "text/x-python",
   "name": "python",
   "nbconvert_exporter": "python",
   "pygments_lexer": "ipython2",
   "version": "2.7.6"
  }
 },
 "nbformat": 4,
 "nbformat_minor": 5
}
